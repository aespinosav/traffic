{
 "metadata": {
  "name": "paralel"
 }, 
 "nbformat": 2, 
 "worksheets": [
  {
   "cells": [
    {
     "cell_type": "code", 
     "collapsed": true, 
     "input": [
      "D = np.arange(0,10,1)", 
      "g = g_alpha[0]", 
      "", 
      "", 
      "", 
      "", 
      "", 
      "", 
      "    ", 
      "adj = np.array(nx.adjacency_matrix(g))", 
      "edge_list = g.edges()", 
      "    ", 
      "coefs = np.array([(g[e[0]][e[1]]['a'], g[e[0]][e[1]]['b'])  for e in g.edges()])", 
      "    ", 
      "a_coefs = list(coefs[:,0])", 
      "b_coefs = list(coefs[:,1])", 
      "", 
      "def do_calculations(d):", 
      "", 
      "    sol = ta_solve(adj, edge_list, a_coefs, b_coefs, d, \"UE\")", 
      "    return sol"
     ], 
     "language": "python", 
     "outputs": []
    }, 
    {
     "cell_type": "code", 
     "collapsed": true, 
     "input": [
      "import multiprocessing", 
      "#import place", 
      "import os", 
      "import sys", 
      "", 
      "def start_process():", 
      "    print 'Starting', multiprocessing.current_process().name", 
      "", 
      "if __name__ == '__main__':", 
      "    pool_size = multiprocessing.cpu_count() * 1", 
      "", 
      "    try:", 
      "        pool = multiprocessing.Pool(processes=pool_size,", 
      "                                    initializer=start_process,", 
      "                                    )", 
      "        pool_outputs = pool.map(do_calculations, D)", 
      "        pool.close() # no more tasks", 
      "        pool.join()  # wrap up current task          ", 
      "        print 'Pool closed and joined normally.'", 
      "    except KeyboardInterrupt:", 
      "        print 'KeyboardInterrupt caught in parent...'", 
      "        pool.terminate()", 
      "        pool.join()  # wrap up current task          ", 
      "        print 'Pool terminated and joined due to an exception'"
     ], 
     "language": "python", 
     "outputs": []
    }, 
    {
     "cell_type": "code", 
     "collapsed": true, 
     "input": [
      "import multiprocessing", 
      "#import place", 
      "import os", 
      "import sys", 
      "", 
      "def start_process():", 
      "    print 'Starting', multiprocessing.current_process().name", 
      "", 
      "if __name__ == '__main__':", 
      "    pool_size = multiprocessing.cpu_count() * 1", 
      "", 
      "    try:", 
      "        pool = multiprocessing.Pool(processes=pool_size,", 
      "                                    initializer=start_process,", 
      "                                    )", 
      "        pool_outputs = pool.map(do_calculations, D)", 
      "        pool.close() # no more tasks", 
      "        pool.join()  # wrap up current task          ", 
      "        print 'Pool closed and joined normally.'", 
      "    except KeyboardInterrupt:", 
      "        print 'KeyboardInterrupt caught in parent...'", 
      "        pool.terminate()", 
      "        pool.join()  # wrap up current task          ", 
      "        print 'Pool terminated and joined due to an exception'"
     ], 
     "language": "python", 
     "outputs": []
    }
   ]
  }
 ]
}