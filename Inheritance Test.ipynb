{
 "metadata": {
  "name": "Inheritance Test"
 }, 
 "nbformat": 2, 
 "worksheets": [
  {
   "cells": [
    {
     "cell_type": "code", 
     "collapsed": false, 
     "input": [
      "from ta_solver import *", 
      "from triangulation import *"
     ], 
     "language": "python", 
     "outputs": [], 
     "prompt_number": 2
    }, 
    {
     "cell_type": "code", 
     "collapsed": false, 
     "input": [
      "class network(nx.DiGraph):", 
      "    ", 
      "    def __init__(self, adj, a_coefs, b_coefs):", 
      "        \"\"\"", 
      "        Initiates a digraph from adjaecncy matrix and defines the cost coeficients", 
      "        as properties of the object, as well as providing scope for demand range and solutions", 
      "        \"\"\"", 
      "    ", 
      "        nx.DiGraph.__init__(self, adj)", 
      "    ", 
      "        g = nx.DiGraph(adj)    ", 
      "    ", 
      "        for i in range(len(g.edges())):", 
      "            e = g.edges()[i]", 
      "            del g[e[0]][e[1]]['weight']", 
      "            g[e[0]][e[1]]['a'] = a_coefs[i]", 
      "            g[e[0]][e[1]]['b'] = b_coefs[i]", 
      "        ", 
      "        self.a_coefs = a_coefs", 
      "        self.b_coefs = b_coefs", 
      "        ", 
      "        self.adjacency_matrix = adj", 
      "        ", 
      "        "
     ], 
     "language": "python", 
     "outputs": [], 
     "prompt_number": 9
    }, 
    {
     "cell_type": "code", 
     "collapsed": false, 
     "input": [
      "adj_braess = np.array([0,1,1,0,", 
      "                       0,0,1,1,", 
      "                       0,0,0,1,", 
      "                       0,0,0,0]).reshape(4,4)", 
      "", 
      "a = 0.5", 
      "b = 0.5", 
      "am = 0.1", 
      "bm = 0.1", 
      "", 
      "a_coefs = [a, 1, am, 1, a]", 
      "b_coefs = [1, b, bm, b, 1]", 
      "", 
      "", 
      "g = network(adj_braess, a_coefs, b_coefs)"
     ], 
     "language": "python", 
     "outputs": [], 
     "prompt_number": 10
    }, 
    {
     "cell_type": "code", 
     "collapsed": false, 
     "input": [
      "g.adjacency_matrix"
     ], 
     "language": "python", 
     "outputs": [
      {
       "output_type": "pyout", 
       "prompt_number": 12, 
       "text": [
        "array([[0, 1, 1, 0],", 
        "       [0, 0, 1, 1],", 
        "       [0, 0, 0, 1],", 
        "       [0, 0, 0, 0]])"
       ]
      }
     ], 
     "prompt_number": 12
    }, 
    {
     "cell_type": "code", 
     "collapsed": true, 
     "input": [], 
     "language": "python", 
     "outputs": []
    }
   ]
  }
 ]
}