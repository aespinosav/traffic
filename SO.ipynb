{
 "metadata": {
  "name": ""
 },
 "nbformat": 3,
 "nbformat_minor": 0,
 "worksheets": [
  {
   "cells": [
    {
     "cell_type": "code",
     "collapsed": false,
     "input": [
      "from sympy.interactive import printing\n",
      "printing.init_printing()\n",
      "\n",
      "from __future__ import division\n",
      "import sympy as sym\n",
      "from sympy import *"
     ],
     "language": "python",
     "metadata": {},
     "outputs": [],
     "prompt_number": 5
    },
    {
     "cell_type": "code",
     "collapsed": true,
     "input": [
      "import numpy as np"
     ],
     "language": "python",
     "metadata": {},
     "outputs": [],
     "prompt_number": 6
    },
    {
     "cell_type": "code",
     "collapsed": false,
     "input": [
      "%pylab inline"
     ],
     "language": "python",
     "metadata": {},
     "outputs": [
      {
       "output_type": "stream",
       "stream": "stdout",
       "text": [
        "Populating the interactive namespace from numpy and matplotlib\n"
       ]
      },
      {
       "output_type": "stream",
       "stream": "stderr",
       "text": [
        "WARNING: pylab import has clobbered these variables: ['Polygon', 'poly', 'cosh', 'flatten', 'conjugate', 'diff', 'Circle', 'tan', 'roots', 'plot', 'eye', 'trace', 'floor', 'diag', 'invert', 'var', 'nan', 'sqrt', 'source', 'add', 'zeros', 'take', 'pi', 'plotting', 'product', 'seterr', 'power', 'multinomial', 'transpose', 'test', 'beta', 'ones', 'sinh', 'vectorize', 'sign', 'mod', 'log', 'cos', 'prod', 'tanh', 'det', 'sin', 'binomial', 'solve', 'exp', 'reshape', 'trunc', 'gamma', 'interactive']\n",
        "`%pylab --no-import-all` prevents importing * from pylab and numpy\n"
       ]
      }
     ],
     "prompt_number": 3
    },
    {
     "cell_type": "code",
     "collapsed": false,
     "input": [
      "var('x, y1, y2, y3, x1, x2, x3, F, a, b, am, bm, d, dc')"
     ],
     "language": "python",
     "metadata": {},
     "outputs": [
      {
       "latex": [
        "$$\\begin{pmatrix}x, & y_{1}, & y_{2}, & y_{3}, & x_{1}, & x_{2}, & x_{3}, & F, & a, & b, & am, & bm, & d, & dc\\end{pmatrix}$$"
       ],
       "metadata": {},
       "output_type": "pyout",
       "prompt_number": 7,
       "text": [
        "(x, y\u2081, y\u2082, y\u2083, x\u2081, x\u2082, x\u2083, F, a, b, am, bm, d, dc)"
       ]
      }
     ],
     "prompt_number": 7
    },
    {
     "cell_type": "code",
     "collapsed": true,
     "input": [
      "def f1(x):\n",
      "    return a + x\n",
      "def f2(x):\n",
      "    return 1+b*x\n",
      "def f5(x):\n",
      "    return am + bm*x\n",
      "\n",
      "f3 = f1\n",
      "f4 = f1"
     ],
     "language": "python",
     "metadata": {},
     "outputs": [],
     "prompt_number": 8
    },
    {
     "cell_type": "code",
     "collapsed": false,
     "input": [
      "y1 = (d-y3)/2\n",
      "y2 = y1\n",
      "d = 2*y1 + y3\n",
      "\n",
      "c1 = f1(y1 + y3) + f2(y1)\n",
      "c2 = c1\n",
      "c3 = 2*f1(y1 + y3 ) + f5(y3)"
     ],
     "language": "python",
     "metadata": {},
     "outputs": [],
     "prompt_number": 9
    },
    {
     "cell_type": "code",
     "collapsed": false,
     "input": [
      "f1(x)"
     ],
     "language": "python",
     "metadata": {},
     "outputs": [
      {
       "latex": [
        "$$a + x$$"
       ],
       "metadata": {},
       "output_type": "pyout",
       "png": "[encoded data removed]",
       "prompt_number": 10,
       "text": [
        "a + x"
       ]
      }
     ],
     "prompt_number": 10
    },
    {
     "cell_type": "code",
     "collapsed": true,
     "input": [],
     "language": "python",
     "metadata": {},
     "outputs": [],
     "prompt_number": 10
    },
    {
     "cell_type": "markdown",
     "metadata": {},
     "source": [
      "We now want to optimise the total cost $F$, which is given by:\n",
      "\n",
      "$$\n",
      "F = \\sum_i y_i c_i\n",
      "$$"
     ]
    },
    {
     "cell_type": "code",
     "collapsed": false,
     "input": [
      "F = y1*c1 + y2*c2 + y3*c3\n",
      "F"
     ],
     "language": "python",
     "metadata": {},
     "outputs": [
      {
       "latex": [
        "$$y_{3} \\left(2 a + am + bm y_{3} + d + y_{3}\\right) + 2 \\left(\\frac{d}{2} - \\frac{y_{3}}{2}\\right) \\left(a + b \\left(\\frac{d}{2} - \\frac{y_{3}}{2}\\right) + \\frac{d}{2} + \\frac{y_{3}}{2} + 1\\right)$$"
       ],
       "metadata": {},
       "output_type": "pyout",
       "png": "[encoded data removed]",
       "prompt_number": 11,
       "text": [
        "                                   \u239bd   y\u2083\u239e \u239b      \u239bd   y\u2083\u239e   d   y\u2083    \u239e\n",
        "y\u2083\u22c5(2\u22c5a + am + bm\u22c5y\u2083 + d + y\u2083) + 2\u22c5\u239c\u2500 - \u2500\u2500\u239f\u22c5\u239ca + b\u22c5\u239c\u2500 - \u2500\u2500\u239f + \u2500 + \u2500\u2500 + 1\u239f\n",
        "                                   \u239d2   2 \u23a0 \u239d      \u239d2   2 \u23a0   2   2     \u23a0"
       ]
      }
     ],
     "prompt_number": 11
    },
    {
     "cell_type": "markdown",
     "metadata": {},
     "source": [
      "The derivative of the total cost is:"
     ]
    },
    {
     "cell_type": "code",
     "collapsed": false,
     "input": [
      "F_prime = F.diff(y3)\n",
      "F_prime"
     ],
     "language": "python",
     "metadata": {},
     "outputs": [
      {
       "latex": [
        "$$a + am - b \\left(\\frac{d}{2} - \\frac{y_{3}}{2}\\right) + bm y_{3} + \\frac{d}{2} + y_{3} \\left(bm + 1\\right) + \\frac{y_{3}}{2} + 2 \\left(- \\frac{b}{2} + \\frac{1}{2}\\right) \\left(\\frac{d}{2} - \\frac{y_{3}}{2}\\right) - 1$$"
       ],
       "metadata": {},
       "output_type": "pyout",
       "png": "[encoded data removed]",
       "prompt_number": 12,
       "text": [
        "           \u239bd   y\u2083\u239e           d                 y\u2083     \u239b  b   1\u239e \u239bd   y\u2083\u239e    \n",
        "a + am - b\u22c5\u239c\u2500 - \u2500\u2500\u239f + bm\u22c5y\u2083 + \u2500 + y\u2083\u22c5(bm + 1) + \u2500\u2500 + 2\u22c5\u239c- \u2500 + \u2500\u239f\u22c5\u239c\u2500 - \u2500\u2500\u239f - 1\n",
        "           \u239d2   2 \u23a0           2                 2      \u239d  2   2\u23a0 \u239d2   2 \u23a0    "
       ]
      }
     ],
     "prompt_number": 12
    },
    {
     "cell_type": "markdown",
     "metadata": {},
     "source": [
      "Since we want to minimise the total cost, we equate the derivative to 0 and solve for $y_3$"
     ]
    },
    {
     "cell_type": "code",
     "collapsed": false,
     "input": [
      "sol_y3 = solve(F_prime, y3)[0]\n",
      "sol_y3"
     ],
     "language": "python",
     "metadata": {},
     "outputs": [
      {
       "latex": [
        "$$\\frac{- a - am + b d - d + 1}{b + 2 bm + 1}$$"
       ],
       "metadata": {},
       "output_type": "pyout",
       "png": "[encoded data removed]",
       "prompt_number": 13,
       "text": [
        "-a - am + b\u22c5d - d + 1\n",
        "\u2500\u2500\u2500\u2500\u2500\u2500\u2500\u2500\u2500\u2500\u2500\u2500\u2500\u2500\u2500\u2500\u2500\u2500\u2500\u2500\u2500\n",
        "     b + 2\u22c5bm + 1    "
       ]
      }
     ],
     "prompt_number": 13
    },
    {
     "cell_type": "markdown",
     "metadata": {},
     "source": [
      "The critical demand $d_c$ for which the middle link turns off is therefore:"
     ]
    },
    {
     "cell_type": "code",
     "collapsed": false,
     "input": [
      "d_crit = solve(sol_y3, d)[0]\n",
      "d_crit"
     ],
     "language": "python",
     "metadata": {},
     "outputs": [
      {
       "latex": [
        "$$\\frac{a + am - 1}{b - 1}$$"
       ],
       "metadata": {},
       "output_type": "pyout",
       "png": "[encoded data removed]",
       "prompt_number": 14,
       "text": [
        "a + am - 1\n",
        "\u2500\u2500\u2500\u2500\u2500\u2500\u2500\u2500\u2500\u2500\n",
        "  b - 1   "
       ]
      }
     ],
     "prompt_number": 14
    },
    {
     "cell_type": "markdown",
     "metadata": {},
     "source": [
      "We now want the total cost only as a function of demand, so we will substitute our answer for $y_3$ back into $F$"
     ]
    },
    {
     "cell_type": "code",
     "collapsed": false,
     "input": [
      "optimised_cost = F.subs(y3, sol_y3 )\n",
      "optimised_cost"
     ],
     "language": "python",
     "metadata": {},
     "outputs": [
      {
       "latex": [
        "$$2 \\left(\\frac{d}{2} - \\frac{- a - am + b d - d + 1}{2 b + 4 bm + 2}\\right) \\left(a + b \\left(\\frac{d}{2} - \\frac{- a - am + b d - d + 1}{2 b + 4 bm + 2}\\right) + \\frac{d}{2} + 1 + \\frac{- a - am + b d - d + 1}{2 b + 4 bm + 2}\\right) + \\frac{1}{b + 2 bm + 1} \\left(- a - am + b d - d + 1\\right) \\left(2 a + am + \\frac{bm \\left(- a - am + b d - d + 1\\right)}{b + 2 bm + 1} + d + \\frac{- a - am + b d - d + 1}{b + 2 bm + 1}\\right)$$"
       ],
       "metadata": {},
       "output_type": "pyout",
       "png": "[encoded data removed]",
       "prompt_number": 15,
       "text": [
        "                                                                              \n",
        "                                                                              \n",
        "  \u239bd   -a - am + b\u22c5d - d + 1\u239e \u239b      \u239bd   -a - am + b\u22c5d - d + 1\u239e   d       -a \n",
        "2\u22c5\u239c\u2500 - \u2500\u2500\u2500\u2500\u2500\u2500\u2500\u2500\u2500\u2500\u2500\u2500\u2500\u2500\u2500\u2500\u2500\u2500\u2500\u2500\u2500\u239f\u22c5\u239ca + b\u22c5\u239c\u2500 - \u2500\u2500\u2500\u2500\u2500\u2500\u2500\u2500\u2500\u2500\u2500\u2500\u2500\u2500\u2500\u2500\u2500\u2500\u2500\u2500\u2500\u239f + \u2500 + 1 + \u2500\u2500\u2500\n",
        "  \u239d2      2\u22c5(b + 2\u22c5bm + 1)  \u23a0 \u239d      \u239d2      2\u22c5(b + 2\u22c5bm + 1)  \u23a0   2          \n",
        "\n",
        "                                              \u239b           bm\u22c5(-a - am + b\u22c5d - \n",
        "                      (-a - am + b\u22c5d - d + 1)\u22c5\u239c2\u22c5a + am + \u2500\u2500\u2500\u2500\u2500\u2500\u2500\u2500\u2500\u2500\u2500\u2500\u2500\u2500\u2500\u2500\u2500\u2500\u2500\u2500\n",
        "- am + b\u22c5d - d + 1\u239e                           \u239d                  b + 2\u22c5bm + 1 \n",
        "\u2500\u2500\u2500\u2500\u2500\u2500\u2500\u2500\u2500\u2500\u2500\u2500\u2500\u2500\u2500\u2500\u2500\u2500\u239f + \u2500\u2500\u2500\u2500\u2500\u2500\u2500\u2500\u2500\u2500\u2500\u2500\u2500\u2500\u2500\u2500\u2500\u2500\u2500\u2500\u2500\u2500\u2500\u2500\u2500\u2500\u2500\u2500\u2500\u2500\u2500\u2500\u2500\u2500\u2500\u2500\u2500\u2500\u2500\u2500\u2500\u2500\u2500\u2500\u2500\u2500\u2500\u2500\u2500\u2500\u2500\u2500\u2500\u2500\u2500\u2500\n",
        "2\u22c5(b + 2\u22c5bm + 1)  \u23a0                                           b + 2\u22c5bm + 1    \n",
        "\n",
        "d + 1)       -a - am + b\u22c5d - d + 1\u239e\n",
        "\u2500\u2500\u2500\u2500\u2500\u2500 + d + \u2500\u2500\u2500\u2500\u2500\u2500\u2500\u2500\u2500\u2500\u2500\u2500\u2500\u2500\u2500\u2500\u2500\u2500\u2500\u2500\u2500\u239f\n",
        "                  b + 2\u22c5bm + 1    \u23a0\n",
        "\u2500\u2500\u2500\u2500\u2500\u2500\u2500\u2500\u2500\u2500\u2500\u2500\u2500\u2500\u2500\u2500\u2500\u2500\u2500\u2500\u2500\u2500\u2500\u2500\u2500\u2500\u2500\u2500\u2500\u2500\u2500\u2500\u2500\u2500\u2500\n",
        "                                   "
       ]
      }
     ],
     "prompt_number": 15
    },
    {
     "cell_type": "code",
     "collapsed": false,
     "input": [
      "optimised_cost.expand().collect(d)"
     ],
     "language": "python",
     "metadata": {},
     "outputs": [
      {
       "latex": [
        "$$\\frac{a^{2} b}{2 b^{2} + 8 b bm + 4 b + 8 bm^{2} + 8 bm + 2} + \\frac{a^{2} bm}{b^{2} + 4 b bm + 2 b + 4 bm^{2} + 4 bm + 1} + \\frac{a^{2}}{2 b^{2} + 8 b bm + 4 b + 8 bm^{2} + 8 bm + 2} - \\frac{a^{2}}{b + 2 bm + 1} + \\frac{a am b}{b^{2} + 4 b bm + 2 b + 4 bm^{2} + 4 bm + 1} + \\frac{2 a am bm}{b^{2} + 4 b bm + 2 b + 4 bm^{2} + 4 bm + 1} + \\frac{a am}{b^{2} + 4 b bm + 2 b + 4 bm^{2} + 4 bm + 1} - \\frac{2 a am}{b + 2 bm + 1} - \\frac{a b}{b^{2} + 4 b bm + 2 b + 4 bm^{2} + 4 bm + 1} - \\frac{2 a bm}{b^{2} + 4 b bm + 2 b + 4 bm^{2} + 4 bm + 1} - \\frac{a}{b^{2} + 4 b bm + 2 b + 4 bm^{2} + 4 bm + 1} + \\frac{2 a}{b + 2 bm + 1} + \\frac{am^{2} b}{2 b^{2} + 8 b bm + 4 b + 8 bm^{2} + 8 bm + 2} + \\frac{am^{2} bm}{b^{2} + 4 b bm + 2 b + 4 bm^{2} + 4 bm + 1} + \\frac{am^{2}}{2 b^{2} + 8 b bm + 4 b + 8 bm^{2} + 8 bm + 2} - \\frac{am^{2}}{b + 2 bm + 1} - \\frac{am b}{b^{2} + 4 b bm + 2 b + 4 bm^{2} + 4 bm + 1} - \\frac{2 am bm}{b^{2} + 4 b bm + 2 b + 4 bm^{2} + 4 bm + 1} - \\frac{am}{b^{2} + 4 b bm + 2 b + 4 bm^{2} + 4 bm + 1} + \\frac{2 am}{b + 2 bm + 1} + \\frac{b}{2 b^{2} + 8 b bm + 4 b + 8 bm^{2} + 8 bm + 2} + \\frac{bm}{b^{2} + 4 b bm + 2 b + 4 bm^{2} + 4 bm + 1} + d^{2} \\left(\\frac{b^{3}}{2 b^{2} + 8 b bm + 4 b + 8 bm^{2} + 8 bm + 2} + \\frac{b^{2} bm}{b^{2} + 4 b bm + 2 b + 4 bm^{2} + 4 bm + 1} - \\frac{b^{2}}{2 b^{2} + 8 b bm + 4 b + 8 bm^{2} + 8 bm + 2} - \\frac{b^{2}}{b + 2 bm + 1} - \\frac{2 b bm}{b^{2} + 4 b bm + 2 b + 4 bm^{2} + 4 bm + 1} + \\frac{b}{2} - \\frac{b}{2 b^{2} + 8 b bm + 4 b + 8 bm^{2} + 8 bm + 2} + \\frac{2 b}{b + 2 bm + 1} + \\frac{bm}{b^{2} + 4 b bm + 2 b + 4 bm^{2} + 4 bm + 1} + \\frac{1}{2} + \\frac{1}{2 b^{2} + 8 b bm + 4 b + 8 bm^{2} + 8 bm + 2} - \\frac{1}{b + 2 bm + 1}\\right) + d \\left(- \\frac{a b^{2}}{b^{2} + 4 b bm + 2 b + 4 bm^{2} + 4 bm + 1} - \\frac{2 a b bm}{b^{2} + 4 b bm + 2 b + 4 bm^{2} + 4 bm + 1} + \\frac{2 a b}{b + 2 bm + 1} + \\frac{2 a bm}{b^{2} + 4 b bm + 2 b + 4 bm^{2} + 4 bm + 1} + a + \\frac{a}{b^{2} + 4 b bm + 2 b + 4 bm^{2} + 4 bm + 1} - \\frac{2 a}{b + 2 bm + 1} - \\frac{am b^{2}}{b^{2} + 4 b bm + 2 b + 4 bm^{2} + 4 bm + 1} - \\frac{2 am b bm}{b^{2} + 4 b bm + 2 b + 4 bm^{2} + 4 bm + 1} + \\frac{2 am b}{b + 2 bm + 1} + \\frac{2 am bm}{b^{2} + 4 b bm + 2 b + 4 bm^{2} + 4 bm + 1} + \\frac{am}{b^{2} + 4 b bm + 2 b + 4 bm^{2} + 4 bm + 1} - \\frac{2 am}{b + 2 bm + 1} + \\frac{b^{2}}{b^{2} + 4 b bm + 2 b + 4 bm^{2} + 4 bm + 1} + \\frac{2 b bm}{b^{2} + 4 b bm + 2 b + 4 bm^{2} + 4 bm + 1} - \\frac{2 b}{b + 2 bm + 1} - \\frac{2 bm}{b^{2} + 4 b bm + 2 b + 4 bm^{2} + 4 bm + 1} + 1 - \\frac{1}{b^{2} + 4 b bm + 2 b + 4 bm^{2} + 4 bm + 1} + \\frac{2}{b + 2 bm + 1}\\right) + \\frac{1}{2 b^{2} + 8 b bm + 4 b + 8 bm^{2} + 8 bm + 2} - \\frac{1}{b + 2 bm + 1}$$"
       ],
       "metadata": {},
       "output_type": "pyout",
       "png": "[encoded data removed]",
       "prompt_number": 26,
       "text": [
        "                   2                                       2                  \n",
        "                  a \u22c5b                                    a \u22c5bm               \n",
        "\u2500\u2500\u2500\u2500\u2500\u2500\u2500\u2500\u2500\u2500\u2500\u2500\u2500\u2500\u2500\u2500\u2500\u2500\u2500\u2500\u2500\u2500\u2500\u2500\u2500\u2500\u2500\u2500\u2500\u2500\u2500\u2500\u2500\u2500\u2500\u2500\u2500\u2500\u2500\u2500 + \u2500\u2500\u2500\u2500\u2500\u2500\u2500\u2500\u2500\u2500\u2500\u2500\u2500\u2500\u2500\u2500\u2500\u2500\u2500\u2500\u2500\u2500\u2500\u2500\u2500\u2500\u2500\u2500\u2500\u2500\u2500\u2500\u2500\u2500\u2500\n",
        "  \u239b 2                      2           \u239e    2                      2          \n",
        "2\u22c5\u239db  + 4\u22c5b\u22c5bm + 2\u22c5b + 4\u22c5bm  + 4\u22c5bm + 1\u23a0   b  + 4\u22c5b\u22c5bm + 2\u22c5b + 4\u22c5bm  + 4\u22c5bm + \n",
        "\n",
        "                        2                            2                        \n",
        "                       a                            a                        a\n",
        "\u2500 + \u2500\u2500\u2500\u2500\u2500\u2500\u2500\u2500\u2500\u2500\u2500\u2500\u2500\u2500\u2500\u2500\u2500\u2500\u2500\u2500\u2500\u2500\u2500\u2500\u2500\u2500\u2500\u2500\u2500\u2500\u2500\u2500\u2500\u2500\u2500\u2500\u2500\u2500\u2500\u2500 - \u2500\u2500\u2500\u2500\u2500\u2500\u2500\u2500\u2500\u2500\u2500\u2500 + \u2500\u2500\u2500\u2500\u2500\u2500\u2500\u2500\u2500\u2500\u2500\u2500\u2500\u2500\u2500\u2500\n",
        "      \u239b 2                      2           \u239e   b + 2\u22c5bm + 1    2              \n",
        "1   2\u22c5\u239db  + 4\u22c5b\u22c5bm + 2\u22c5b + 4\u22c5bm  + 4\u22c5bm + 1\u23a0                  b  + 4\u22c5b\u22c5bm + 2\u22c5\n",
        "\n",
        "                                                                              \n",
        "\u22c5am\u22c5b                               2\u22c5a\u22c5am\u22c5bm                                 \n",
        "\u2500\u2500\u2500\u2500\u2500\u2500\u2500\u2500\u2500\u2500\u2500\u2500\u2500\u2500\u2500\u2500\u2500\u2500\u2500\u2500 + \u2500\u2500\u2500\u2500\u2500\u2500\u2500\u2500\u2500\u2500\u2500\u2500\u2500\u2500\u2500\u2500\u2500\u2500\u2500\u2500\u2500\u2500\u2500\u2500\u2500\u2500\u2500\u2500\u2500\u2500\u2500\u2500\u2500\u2500\u2500\u2500 + \u2500\u2500\u2500\u2500\u2500\u2500\u2500\u2500\u2500\u2500\u2500\u2500\u2500\u2500\u2500\u2500\n",
        "        2               2                      2               2              \n",
        "b + 4\u22c5bm  + 4\u22c5bm + 1   b  + 4\u22c5b\u22c5bm + 2\u22c5b + 4\u22c5bm  + 4\u22c5bm + 1   b  + 4\u22c5b\u22c5bm + 2\u22c5\n",
        "\n",
        "                                                                              \n",
        "a\u22c5am                      2\u22c5a\u22c5am                      a\u22c5b                     \n",
        "\u2500\u2500\u2500\u2500\u2500\u2500\u2500\u2500\u2500\u2500\u2500\u2500\u2500\u2500\u2500\u2500\u2500\u2500\u2500\u2500 - \u2500\u2500\u2500\u2500\u2500\u2500\u2500\u2500\u2500\u2500\u2500\u2500 - \u2500\u2500\u2500\u2500\u2500\u2500\u2500\u2500\u2500\u2500\u2500\u2500\u2500\u2500\u2500\u2500\u2500\u2500\u2500\u2500\u2500\u2500\u2500\u2500\u2500\u2500\u2500\u2500\u2500\u2500\u2500\u2500\u2500\u2500\u2500\u2500 - \u2500\n",
        "        2              b + 2\u22c5bm + 1    2                      2               \n",
        "b + 4\u22c5bm  + 4\u22c5bm + 1                  b  + 4\u22c5b\u22c5bm + 2\u22c5b + 4\u22c5bm  + 4\u22c5bm + 1   b\n",
        "\n",
        "                                                                              \n",
        "              2\u22c5a\u22c5bm                                   a                      \n",
        "\u2500\u2500\u2500\u2500\u2500\u2500\u2500\u2500\u2500\u2500\u2500\u2500\u2500\u2500\u2500\u2500\u2500\u2500\u2500\u2500\u2500\u2500\u2500\u2500\u2500\u2500\u2500\u2500\u2500\u2500\u2500\u2500\u2500\u2500\u2500 - \u2500\u2500\u2500\u2500\u2500\u2500\u2500\u2500\u2500\u2500\u2500\u2500\u2500\u2500\u2500\u2500\u2500\u2500\u2500\u2500\u2500\u2500\u2500\u2500\u2500\u2500\u2500\u2500\u2500\u2500\u2500\u2500\u2500\u2500\u2500\u2500 + \u2500\n",
        "2                      2               2                      2              b\n",
        "  + 4\u22c5b\u22c5bm + 2\u22c5b + 4\u22c5bm  + 4\u22c5bm + 1   b  + 4\u22c5b\u22c5bm + 2\u22c5b + 4\u22c5bm  + 4\u22c5bm + 1    \n",
        "\n",
        "                                 2                                        2   \n",
        "   2\u22c5a                         am \u22c5b                                    am \u22c5bm\n",
        "\u2500\u2500\u2500\u2500\u2500\u2500\u2500\u2500\u2500\u2500\u2500 + \u2500\u2500\u2500\u2500\u2500\u2500\u2500\u2500\u2500\u2500\u2500\u2500\u2500\u2500\u2500\u2500\u2500\u2500\u2500\u2500\u2500\u2500\u2500\u2500\u2500\u2500\u2500\u2500\u2500\u2500\u2500\u2500\u2500\u2500\u2500\u2500\u2500\u2500\u2500\u2500 + \u2500\u2500\u2500\u2500\u2500\u2500\u2500\u2500\u2500\u2500\u2500\u2500\u2500\u2500\u2500\u2500\u2500\u2500\u2500\u2500\u2500\n",
        " + 2\u22c5bm + 1     \u239b 2                      2           \u239e    2                   \n",
        "              2\u22c5\u239db  + 4\u22c5b\u22c5bm + 2\u22c5b + 4\u22c5bm  + 4\u22c5bm + 1\u23a0   b  + 4\u22c5b\u22c5bm + 2\u22c5b + 4\n",
        "\n",
        "                                      2                            2          \n",
        "                                    am                           am           \n",
        "\u2500\u2500\u2500\u2500\u2500\u2500\u2500\u2500\u2500\u2500\u2500\u2500\u2500\u2500\u2500 + \u2500\u2500\u2500\u2500\u2500\u2500\u2500\u2500\u2500\u2500\u2500\u2500\u2500\u2500\u2500\u2500\u2500\u2500\u2500\u2500\u2500\u2500\u2500\u2500\u2500\u2500\u2500\u2500\u2500\u2500\u2500\u2500\u2500\u2500\u2500\u2500\u2500\u2500\u2500\u2500 - \u2500\u2500\u2500\u2500\u2500\u2500\u2500\u2500\u2500\u2500\u2500\u2500 - \u2500\u2500\n",
        "   2                \u239b 2                      2           \u239e   b + 2\u22c5bm + 1    2\n",
        "\u22c5bm  + 4\u22c5bm + 1   2\u22c5\u239db  + 4\u22c5b\u22c5bm + 2\u22c5b + 4\u22c5bm  + 4\u22c5bm + 1\u23a0                  b \n",
        "\n",
        "                                                                              \n",
        "              am\u22c5b                                 2\u22c5am\u22c5bm                    \n",
        "\u2500\u2500\u2500\u2500\u2500\u2500\u2500\u2500\u2500\u2500\u2500\u2500\u2500\u2500\u2500\u2500\u2500\u2500\u2500\u2500\u2500\u2500\u2500\u2500\u2500\u2500\u2500\u2500\u2500\u2500\u2500\u2500\u2500\u2500 - \u2500\u2500\u2500\u2500\u2500\u2500\u2500\u2500\u2500\u2500\u2500\u2500\u2500\u2500\u2500\u2500\u2500\u2500\u2500\u2500\u2500\u2500\u2500\u2500\u2500\u2500\u2500\u2500\u2500\u2500\u2500\u2500\u2500\u2500\u2500\u2500 - \u2500\u2500\n",
        "                      2               2                      2               2\n",
        " + 4\u22c5b\u22c5bm + 2\u22c5b + 4\u22c5bm  + 4\u22c5bm + 1   b  + 4\u22c5b\u22c5bm + 2\u22c5b + 4\u22c5bm  + 4\u22c5bm + 1   b \n",
        "\n",
        "                                                                              \n",
        "               am                        2\u22c5am                          b      \n",
        "\u2500\u2500\u2500\u2500\u2500\u2500\u2500\u2500\u2500\u2500\u2500\u2500\u2500\u2500\u2500\u2500\u2500\u2500\u2500\u2500\u2500\u2500\u2500\u2500\u2500\u2500\u2500\u2500\u2500\u2500\u2500\u2500\u2500\u2500 + \u2500\u2500\u2500\u2500\u2500\u2500\u2500\u2500\u2500\u2500\u2500\u2500 + \u2500\u2500\u2500\u2500\u2500\u2500\u2500\u2500\u2500\u2500\u2500\u2500\u2500\u2500\u2500\u2500\u2500\u2500\u2500\u2500\u2500\u2500\u2500\u2500\u2500\u2500\n",
        "                      2              b + 2\u22c5bm + 1     \u239b 2                     \n",
        " + 4\u22c5b\u22c5bm + 2\u22c5b + 4\u22c5bm  + 4\u22c5bm + 1                  2\u22c5\u239db  + 4\u22c5b\u22c5bm + 2\u22c5b + 4\u22c5b\n",
        "\n",
        "                                                           \u239b                  \n",
        "                                  bm                     2 \u239c                  \n",
        "\u2500\u2500\u2500\u2500\u2500\u2500\u2500\u2500\u2500\u2500\u2500\u2500\u2500\u2500 + \u2500\u2500\u2500\u2500\u2500\u2500\u2500\u2500\u2500\u2500\u2500\u2500\u2500\u2500\u2500\u2500\u2500\u2500\u2500\u2500\u2500\u2500\u2500\u2500\u2500\u2500\u2500\u2500\u2500\u2500\u2500\u2500\u2500\u2500\u2500\u2500 + d \u22c5\u239c\u2500\u2500\u2500\u2500\u2500\u2500\u2500\u2500\u2500\u2500\u2500\u2500\u2500\u2500\u2500\u2500\u2500\u2500\n",
        " 2           \u239e    2                      2                 \u239c  \u239b 2             \n",
        "m  + 4\u22c5bm + 1\u23a0   b  + 4\u22c5b\u22c5bm + 2\u22c5b + 4\u22c5bm  + 4\u22c5bm + 1      \u239d2\u22c5\u239db  + 4\u22c5b\u22c5bm + 2\n",
        "\n",
        "  3                                      2                                    \n",
        " b                                      b \u22c5bm                                 \n",
        "\u2500\u2500\u2500\u2500\u2500\u2500\u2500\u2500\u2500\u2500\u2500\u2500\u2500\u2500\u2500\u2500\u2500\u2500\u2500\u2500\u2500\u2500 + \u2500\u2500\u2500\u2500\u2500\u2500\u2500\u2500\u2500\u2500\u2500\u2500\u2500\u2500\u2500\u2500\u2500\u2500\u2500\u2500\u2500\u2500\u2500\u2500\u2500\u2500\u2500\u2500\u2500\u2500\u2500\u2500\u2500\u2500\u2500\u2500 - \u2500\u2500\u2500\u2500\u2500\u2500\u2500\u2500\u2500\u2500\u2500\u2500\u2500\u2500\n",
        "         2           \u239e    2                      2                \u239b 2         \n",
        "\u22c5b + 4\u22c5bm  + 4\u22c5bm + 1\u23a0   b  + 4\u22c5b\u22c5bm + 2\u22c5b + 4\u22c5bm  + 4\u22c5bm + 1   2\u22c5\u239db  + 4\u22c5b\u22c5bm\n",
        "\n",
        "      2                            2                                          \n",
        "     b                            b                        2\u22c5b\u22c5bm             \n",
        "\u2500\u2500\u2500\u2500\u2500\u2500\u2500\u2500\u2500\u2500\u2500\u2500\u2500\u2500\u2500\u2500\u2500\u2500\u2500\u2500\u2500\u2500\u2500\u2500\u2500\u2500 - \u2500\u2500\u2500\u2500\u2500\u2500\u2500\u2500\u2500\u2500\u2500\u2500 - \u2500\u2500\u2500\u2500\u2500\u2500\u2500\u2500\u2500\u2500\u2500\u2500\u2500\u2500\u2500\u2500\u2500\u2500\u2500\u2500\u2500\u2500\u2500\u2500\u2500\u2500\u2500\u2500\u2500\u2500\u2500\u2500\u2500\u2500\n",
        "             2           \u239e   b + 2\u22c5bm + 1    2                      2         \n",
        " + 2\u22c5b + 4\u22c5bm  + 4\u22c5bm + 1\u23a0                  b  + 4\u22c5b\u22c5bm + 2\u22c5b + 4\u22c5bm  + 4\u22c5bm +\n",
        "\n",
        "                                                                              \n",
        "     b                      b                           2\u22c5b                   \n",
        "\u2500\u2500 + \u2500 - \u2500\u2500\u2500\u2500\u2500\u2500\u2500\u2500\u2500\u2500\u2500\u2500\u2500\u2500\u2500\u2500\u2500\u2500\u2500\u2500\u2500\u2500\u2500\u2500\u2500\u2500\u2500\u2500\u2500\u2500\u2500\u2500\u2500\u2500\u2500\u2500\u2500\u2500\u2500\u2500 + \u2500\u2500\u2500\u2500\u2500\u2500\u2500\u2500\u2500\u2500\u2500\u2500 + \u2500\u2500\u2500\u2500\u2500\u2500\u2500\u2500\u2500\u2500\u2500\n",
        "     2     \u239b 2                      2           \u239e   b + 2\u22c5bm + 1    2         \n",
        " 1       2\u22c5\u239db  + 4\u22c5b\u22c5bm + 2\u22c5b + 4\u22c5bm  + 4\u22c5bm + 1\u23a0                  b  + 4\u22c5b\u22c5bm\n",
        "\n",
        "                                                                              \n",
        "      bm                    1                      1                          \n",
        "\u2500\u2500\u2500\u2500\u2500\u2500\u2500\u2500\u2500\u2500\u2500\u2500\u2500\u2500\u2500\u2500\u2500\u2500\u2500\u2500\u2500\u2500\u2500\u2500\u2500 + \u2500 + \u2500\u2500\u2500\u2500\u2500\u2500\u2500\u2500\u2500\u2500\u2500\u2500\u2500\u2500\u2500\u2500\u2500\u2500\u2500\u2500\u2500\u2500\u2500\u2500\u2500\u2500\u2500\u2500\u2500\u2500\u2500\u2500\u2500\u2500\u2500\u2500\u2500\u2500\u2500\u2500 - \u2500\u2500\u2500\n",
        "             2              2     \u239b 2                      2           \u239e   b +\n",
        " + 2\u22c5b + 4\u22c5bm  + 4\u22c5bm + 1       2\u22c5\u239db  + 4\u22c5b\u22c5bm + 2\u22c5b + 4\u22c5bm  + 4\u22c5bm + 1\u23a0      \n",
        "\n",
        "         \u239e     \u239b                     2                                        \n",
        "  1      \u239f     \u239c                  a\u22c5b                                  2\u22c5a\u22c5b\u22c5b\n",
        "\u2500\u2500\u2500\u2500\u2500\u2500\u2500\u2500\u2500\u239f + d\u22c5\u239c- \u2500\u2500\u2500\u2500\u2500\u2500\u2500\u2500\u2500\u2500\u2500\u2500\u2500\u2500\u2500\u2500\u2500\u2500\u2500\u2500\u2500\u2500\u2500\u2500\u2500\u2500\u2500\u2500\u2500\u2500\u2500\u2500\u2500\u2500\u2500\u2500 - \u2500\u2500\u2500\u2500\u2500\u2500\u2500\u2500\u2500\u2500\u2500\u2500\u2500\u2500\u2500\u2500\u2500\u2500\u2500\u2500\u2500\n",
        " 2\u22c5bm + 1\u239f     \u239c   2                      2               2                   \n",
        "         \u23a0     \u239d  b  + 4\u22c5b\u22c5bm + 2\u22c5b + 4\u22c5bm  + 4\u22c5bm + 1   b  + 4\u22c5b\u22c5bm + 2\u22c5b + 4\n",
        "\n",
        "                                                                              \n",
        "m                    2\u22c5a\u22c5b                      2\u22c5a\u22c5bm                        \n",
        "\u2500\u2500\u2500\u2500\u2500\u2500\u2500\u2500\u2500\u2500\u2500\u2500\u2500\u2500\u2500 + \u2500\u2500\u2500\u2500\u2500\u2500\u2500\u2500\u2500\u2500\u2500\u2500 + \u2500\u2500\u2500\u2500\u2500\u2500\u2500\u2500\u2500\u2500\u2500\u2500\u2500\u2500\u2500\u2500\u2500\u2500\u2500\u2500\u2500\u2500\u2500\u2500\u2500\u2500\u2500\u2500\u2500\u2500\u2500\u2500\u2500\u2500\u2500\u2500 + a + \u2500\u2500\n",
        "   2              b + 2\u22c5bm + 1    2                      2                   2\n",
        "\u22c5bm  + 4\u22c5bm + 1                  b  + 4\u22c5b\u22c5bm + 2\u22c5b + 4\u22c5bm  + 4\u22c5bm + 1       b \n",
        "\n",
        "                                                                       2      \n",
        "               a                         2\u22c5a                       am\u22c5b       \n",
        "\u2500\u2500\u2500\u2500\u2500\u2500\u2500\u2500\u2500\u2500\u2500\u2500\u2500\u2500\u2500\u2500\u2500\u2500\u2500\u2500\u2500\u2500\u2500\u2500\u2500\u2500\u2500\u2500\u2500\u2500\u2500\u2500\u2500\u2500 - \u2500\u2500\u2500\u2500\u2500\u2500\u2500\u2500\u2500\u2500\u2500\u2500 - \u2500\u2500\u2500\u2500\u2500\u2500\u2500\u2500\u2500\u2500\u2500\u2500\u2500\u2500\u2500\u2500\u2500\u2500\u2500\u2500\u2500\u2500\u2500\u2500\u2500\u2500\n",
        "                      2              b + 2\u22c5bm + 1    2                      2 \n",
        " + 4\u22c5b\u22c5bm + 2\u22c5b + 4\u22c5bm  + 4\u22c5bm + 1                  b  + 4\u22c5b\u22c5bm + 2\u22c5b + 4\u22c5bm  \n",
        "\n",
        "                                                                              \n",
        "                          2\u22c5am\u22c5b\u22c5bm                    2\u22c5am\u22c5b                 \n",
        "\u2500\u2500\u2500\u2500\u2500\u2500\u2500\u2500\u2500\u2500 - \u2500\u2500\u2500\u2500\u2500\u2500\u2500\u2500\u2500\u2500\u2500\u2500\u2500\u2500\u2500\u2500\u2500\u2500\u2500\u2500\u2500\u2500\u2500\u2500\u2500\u2500\u2500\u2500\u2500\u2500\u2500\u2500\u2500\u2500\u2500\u2500 + \u2500\u2500\u2500\u2500\u2500\u2500\u2500\u2500\u2500\u2500\u2500\u2500 + \u2500\u2500\u2500\u2500\u2500\u2500\u2500\u2500\u2500\u2500\u2500\n",
        "              2                      2              b + 2\u22c5bm + 1    2         \n",
        "+ 4\u22c5bm + 1   b  + 4\u22c5b\u22c5bm + 2\u22c5b + 4\u22c5bm  + 4\u22c5bm + 1                  b  + 4\u22c5b\u22c5bm\n",
        "\n",
        "                                                                              \n",
        "   2\u22c5am\u22c5bm                                   am                        2\u22c5am   \n",
        "\u2500\u2500\u2500\u2500\u2500\u2500\u2500\u2500\u2500\u2500\u2500\u2500\u2500\u2500\u2500\u2500\u2500\u2500\u2500\u2500\u2500\u2500\u2500\u2500\u2500 + \u2500\u2500\u2500\u2500\u2500\u2500\u2500\u2500\u2500\u2500\u2500\u2500\u2500\u2500\u2500\u2500\u2500\u2500\u2500\u2500\u2500\u2500\u2500\u2500\u2500\u2500\u2500\u2500\u2500\u2500\u2500\u2500\u2500\u2500\u2500\u2500 - \u2500\u2500\u2500\u2500\u2500\u2500\u2500\u2500\u2500\u2500\u2500\n",
        "             2               2                      2              b + 2\u22c5bm + \n",
        " + 2\u22c5b + 4\u22c5bm  + 4\u22c5bm + 1   b  + 4\u22c5b\u22c5bm + 2\u22c5b + 4\u22c5bm  + 4\u22c5bm + 1              \n",
        "\n",
        "                      2                                                       \n",
        "                     b                                    2\u22c5b\u22c5bm              \n",
        "\u2500 + \u2500\u2500\u2500\u2500\u2500\u2500\u2500\u2500\u2500\u2500\u2500\u2500\u2500\u2500\u2500\u2500\u2500\u2500\u2500\u2500\u2500\u2500\u2500\u2500\u2500\u2500\u2500\u2500\u2500\u2500\u2500\u2500\u2500\u2500\u2500\u2500 + \u2500\u2500\u2500\u2500\u2500\u2500\u2500\u2500\u2500\u2500\u2500\u2500\u2500\u2500\u2500\u2500\u2500\u2500\u2500\u2500\u2500\u2500\u2500\u2500\u2500\u2500\u2500\u2500\u2500\u2500\u2500\u2500\u2500\u2500\u2500\n",
        "1    2                      2               2                      2          \n",
        "    b  + 4\u22c5b\u22c5bm + 2\u22c5b + 4\u22c5bm  + 4\u22c5bm + 1   b  + 4\u22c5b\u22c5bm + 2\u22c5b + 4\u22c5bm  + 4\u22c5bm + \n",
        "\n",
        "                                                                              \n",
        "        2\u22c5b                        2\u22c5bm                                       \n",
        "\u2500 - \u2500\u2500\u2500\u2500\u2500\u2500\u2500\u2500\u2500\u2500\u2500\u2500 - \u2500\u2500\u2500\u2500\u2500\u2500\u2500\u2500\u2500\u2500\u2500\u2500\u2500\u2500\u2500\u2500\u2500\u2500\u2500\u2500\u2500\u2500\u2500\u2500\u2500\u2500\u2500\u2500\u2500\u2500\u2500\u2500\u2500\u2500\u2500\u2500 + 1 - \u2500\u2500\u2500\u2500\u2500\u2500\u2500\u2500\u2500\u2500\u2500\u2500\u2500\u2500\u2500\u2500\n",
        "    b + 2\u22c5bm + 1    2                      2                   2              \n",
        "1                  b  + 4\u22c5b\u22c5bm + 2\u22c5b + 4\u22c5bm  + 4\u22c5bm + 1       b  + 4\u22c5b\u22c5bm + 2\u22c5\n",
        "\n",
        "                                   \u239e                                          \n",
        " 1                          2      \u239f                      1                   \n",
        "\u2500\u2500\u2500\u2500\u2500\u2500\u2500\u2500\u2500\u2500\u2500\u2500\u2500\u2500\u2500\u2500\u2500\u2500\u2500\u2500 + \u2500\u2500\u2500\u2500\u2500\u2500\u2500\u2500\u2500\u2500\u2500\u2500\u239f + \u2500\u2500\u2500\u2500\u2500\u2500\u2500\u2500\u2500\u2500\u2500\u2500\u2500\u2500\u2500\u2500\u2500\u2500\u2500\u2500\u2500\u2500\u2500\u2500\u2500\u2500\u2500\u2500\u2500\u2500\u2500\u2500\u2500\u2500\u2500\u2500\u2500\u2500\u2500\n",
        "        2              b + 2\u22c5bm + 1\u239f     \u239b 2                      2           \n",
        "b + 4\u22c5bm  + 4\u22c5bm + 1               \u23a0   2\u22c5\u239db  + 4\u22c5b\u22c5bm + 2\u22c5b + 4\u22c5bm  + 4\u22c5bm + 1\n",
        "\n",
        "                \n",
        "         1      \n",
        "\u2500 - \u2500\u2500\u2500\u2500\u2500\u2500\u2500\u2500\u2500\u2500\u2500\u2500\n",
        "\u239e   b + 2\u22c5bm + 1\n",
        "\u23a0               "
       ]
      }
     ],
     "prompt_number": 26
    },
    {
     "cell_type": "code",
     "collapsed": false,
     "input": [],
     "language": "python",
     "metadata": {},
     "outputs": []
    }
   ],
   "metadata": {}
  }
 ]
}