{
 "metadata": {
  "name": "SO"
 }, 
 "nbformat": 2, 
 "worksheets": [
  {
   "cells": [
    {
     "cell_type": "code", 
     "collapsed": false, 
     "input": [
      "from sympy.interactive import printing", 
      "printing.init_printing()", 
      "", 
      "from __future__ import division", 
      "import sympy as sym", 
      "from sympy import *"
     ], 
     "language": "python", 
     "outputs": [], 
     "prompt_number": 58
    }, 
    {
     "cell_type": "code", 
     "collapsed": true, 
     "input": [
      "import numpy as np"
     ], 
     "language": "python", 
     "outputs": [], 
     "prompt_number": 85
    }, 
    {
     "cell_type": "code", 
     "collapsed": false, 
     "input": [
      "%pylab inline"
     ], 
     "language": "python", 
     "outputs": [
      {
       "output_type": "stream", 
       "stream": "stdout", 
       "text": [
        "", 
        "Welcome to pylab, a matplotlib-based Python environment [backend: module://IPython.zmq.pylab.backend_inline].", 
        "For more information, type 'help(pylab)'."
       ]
      }
     ], 
     "prompt_number": 91
    }, 
    {
     "cell_type": "code", 
     "collapsed": false, 
     "input": [
      "var('x, y1, y2, y3, x1, x2, x3, F, a, b, am, bm, d, dc')"
     ], 
     "language": "python", 
     "outputs": [
      {
       "output_type": "pyout", 
       "prompt_number": 59, 
       "text": [
        "(x, y1, y2, y3, x1, x2, x3, F, a, b, am, bm, d, dc)"
       ]
      }
     ], 
     "prompt_number": 59
    }, 
    {
     "cell_type": "code", 
     "collapsed": true, 
     "input": [
      "def f1(x):", 
      "    return a + x", 
      "def f2(x):", 
      "    return 1+b*x", 
      "def f5(x):", 
      "    return am + bm*x", 
      "", 
      "f3 = f1", 
      "f4 = f1"
     ], 
     "language": "python", 
     "outputs": [], 
     "prompt_number": 60
    }, 
    {
     "cell_type": "code", 
     "collapsed": false, 
     "input": [
      "y1 = (d-y3)/2", 
      "y2 = y1", 
      "d = 2*y1 + y3", 
      "", 
      "c1 = f1(y1 + y3) + f2(y1)", 
      "c2 = c1", 
      "c3 = 2*f1(y1 + y3 ) + f5(y3)"
     ], 
     "language": "python", 
     "outputs": [], 
     "prompt_number": 61
    }, 
    {
     "cell_type": "code", 
     "collapsed": false, 
     "input": [
      "f1(x)"
     ], 
     "language": "python", 
     "outputs": [
      {
       "output_type": "pyout", 
       "prompt_number": 62, 
       "text": [
        "a + x"
       ]
      }
     ], 
     "prompt_number": 62
    }, 
    {
     "cell_type": "code", 
     "collapsed": true, 
     "input": [], 
     "language": "python", 
     "outputs": [], 
     "prompt_number": 62
    }, 
    {
     "cell_type": "markdown", 
     "source": [
      "We now want to optimise the total cost $F$, which is given by:", 
      "", 
      "$$", 
      "F = \\sum_i y_i c_i", 
      "$$"
     ]
    }, 
    {
     "cell_type": "code", 
     "collapsed": false, 
     "input": [
      "F = y1*c1 + y2*c2 + y3*c3", 
      "F"
     ], 
     "language": "python", 
     "outputs": [
      {
       "output_type": "pyout", 
       "prompt_number": 63, 
       "text": [
        "y3*(2*a + am + bm*y3 + d + y3) + 2*(d/2 - y3/2)*(a + b*(d/2 - y3/2) + d/2 + y3/2 + 1)"
       ]
      }
     ], 
     "prompt_number": 63
    }, 
    {
     "cell_type": "markdown", 
     "source": [
      "The derivative of the total cost is:"
     ]
    }, 
    {
     "cell_type": "code", 
     "collapsed": false, 
     "input": [
      "F_prime = F.diff(y3)", 
      "F_prime"
     ], 
     "language": "python", 
     "outputs": [
      {
       "output_type": "pyout", 
       "prompt_number": 80, 
       "text": [
        "a + am - b*(d/2 - y3/2) + bm*y3 + d/2 + y3*(bm + 1) + y3/2 + 2*(-b/2 + 1/2)*(d/2 - y3/2) - 1"
       ]
      }
     ], 
     "prompt_number": 80
    }, 
    {
     "cell_type": "markdown", 
     "source": [
      "Since we want to minimise the total cost, we equate the derivative to 0 and solve for $y_3$"
     ]
    }, 
    {
     "cell_type": "code", 
     "collapsed": false, 
     "input": [
      "sol_y3 = solve(F_prime, y3)[0]", 
      "sol_y3"
     ], 
     "language": "python", 
     "outputs": [
      {
       "output_type": "pyout", 
       "prompt_number": 75, 
       "text": [
        "-(a + am - b*d + d - 1)/(b + 2*bm + 1)"
       ]
      }
     ], 
     "prompt_number": 75
    }, 
    {
     "cell_type": "markdown", 
     "source": [
      "The critical demand $d_c$ for which the middle link turns off is therefore:"
     ]
    }, 
    {
     "cell_type": "code", 
     "collapsed": false, 
     "input": [
      "d_crit = solve(sol_y3, d)[0]", 
      "d_crit"
     ], 
     "language": "python", 
     "outputs": [
      {
       "output_type": "pyout", 
       "prompt_number": 76, 
       "text": [
        "(a + am - 1)/(b - 1)"
       ]
      }
     ], 
     "prompt_number": 76
    }, 
    {
     "cell_type": "markdown", 
     "source": [
      "We now want the total cost only as a function of demand, so we will substitute our answer for $y_3$ back into $F$"
     ]
    }, 
    {
     "cell_type": "code", 
     "collapsed": false, 
     "input": [
      "optimised_cost = F.subs(y3, sol_y3 )", 
      "optimised_cost"
     ], 
     "language": "python", 
     "outputs": [
      {
       "output_type": "pyout", 
       "prompt_number": 83, 
       "text": [
        "2*(d/2 + (a + am - b*d + d - 1)/(2*(b + 2*bm + 1)))*(a + b*(d/2 + (a + am - b*d + d - 1)/(2*(b + 2*bm + 1))) + d/2 + 1 - (a + am - b*d + d - 1)/(2*(b + 2*bm + 1))) - (a + am - b*d + d - 1)*(2*a + am - bm*(a + am - b*d + d - 1)/(b + 2*bm + 1) + d - (a + am - b*d + d - 1)/(b + 2*bm + 1))/(b + 2*bm + 1)"
       ]
      }
     ], 
     "prompt_number": 83
    }, 
    {
     "cell_type": "code", 
     "collapsed": true, 
     "input": [
      "def F_SO(d, a, am, b, bm):", 
      "    return 2*(d/2 + (a + am - b*d + d - 1)/(2*(b + 2*bm + 1)))*(a + b*(d/2 + (a + am - b*d + d - 1)/(2*(b + 2*bm + 1))) + d/2 + 1 - (a + am - b*d + d - 1)/(2*(b + 2*bm + 1))) - (a + am - b*d + d - 1)*(2*a + am - bm*(a + am - b*d + d - 1)/(b + 2*bm + 1) + d - (a + am - b*d + d - 1)/(b + 2*bm + 1))/(b + 2*bm + 1)"
     ], 
     "language": "python", 
     "outputs": [], 
     "prompt_number": 86
    }, 
    {
     "cell_type": "code", 
     "collapsed": false, 
     "input": [
      "dd = np.arange(0, 2, 0.01)", 
      "aa = 0.5", 
      "bb = 0.5", 
      "a5 = 0.2", 
      "b5 = 0.2", 
      "", 
      "FF = F_SO(dd, aa, a5, bb, b5)"
     ], 
     "language": "python", 
     "outputs": [], 
     "prompt_number": 111
    }, 
    {
     "cell_type": "code", 
     "collapsed": false, 
     "input": [
      "plot(dd, FF)", 
      "axvline(x=((aa + a5 - 1)/(bb - 1)), color=\"k\", linestyle=\"--\")"
     ], 
     "language": "python", 
     "outputs": [
      {
       "output_type": "pyout", 
       "prompt_number": 113, 
       "text": [
        "<matplotlib.lines.Line2D at 0x534df90>"
       ]
      }, 
      {
       "output_type": "display_data", 
       "png": "[encoded data removed]"
      }
     ], 
     "prompt_number": 113
    }, 
    {
     "cell_type": "code", 
     "collapsed": true, 
     "input": [], 
     "language": "python", 
     "outputs": []
    }
   ]
  }
 ]
}