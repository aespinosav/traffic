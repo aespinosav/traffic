{
 "metadata": {
  "name": "SO"
 }, 
 "nbformat": 2, 
 "worksheets": [
  {
   "cells": [
    {
     "cell_type": "code", 
     "collapsed": true, 
     "input": [
      "from sympy.interactive import printing", 
      "printing.init_printing()", 
      "", 
      "from __future__ import division", 
      "import sympy as sym", 
      "from sympy import *"
     ], 
     "language": "python", 
     "outputs": [], 
     "prompt_number": 5
    }, 
    {
     "cell_type": "code", 
     "collapsed": true, 
     "input": [
      "import numpy as np"
     ], 
     "language": "python", 
     "outputs": [], 
     "prompt_number": 6
    }, 
    {
     "cell_type": "code", 
     "collapsed": false, 
     "input": [
      "%pylab inline"
     ], 
     "language": "python", 
     "outputs": [
      {
       "output_type": "stream", 
       "stream": "stdout", 
       "text": [
        "", 
        "Welcome to pylab, a matplotlib-based Python environment [backend: module://IPython.zmq.pylab.backend_inline].", 
        "For more information, type 'help(pylab)'."
       ]
      }
     ], 
     "prompt_number": 3
    }, 
    {
     "cell_type": "code", 
     "collapsed": false, 
     "input": [
      "var('x, y1, y2, y3, x1, x2, x3, F, a, b, am, bm, d, dc')"
     ], 
     "language": "python", 
     "outputs": [
      {
       "output_type": "pyout", 
       "prompt_number": 7, 
       "text": [
        "(x, y1, y2, y3, x1, x2, x3, F, a, b, am, bm, d, dc)"
       ]
      }
     ], 
     "prompt_number": 7
    }, 
    {
     "cell_type": "code", 
     "collapsed": true, 
     "input": [
      "def f1(x):", 
      "    return a + x", 
      "def f2(x):", 
      "    return 1+b*x", 
      "def f5(x):", 
      "    return am + bm*x", 
      "", 
      "f3 = f1", 
      "f4 = f1"
     ], 
     "language": "python", 
     "outputs": [], 
     "prompt_number": 8
    }, 
    {
     "cell_type": "code", 
     "collapsed": true, 
     "input": [
      "y1 = (d-y3)/2", 
      "y2 = y1", 
      "d = 2*y1 + y3", 
      "", 
      "c1 = f1(y1 + y3) + f2(y1)", 
      "c2 = c1", 
      "c3 = 2*f1(y1 + y3 ) + f5(y3)"
     ], 
     "language": "python", 
     "outputs": [], 
     "prompt_number": 9
    }, 
    {
     "cell_type": "code", 
     "collapsed": false, 
     "input": [
      "f1(x)"
     ], 
     "language": "python", 
     "outputs": [
      {
       "output_type": "pyout", 
       "prompt_number": 10, 
       "text": [
        "a + x"
       ]
      }
     ], 
     "prompt_number": 10
    }, 
    {
     "cell_type": "code", 
     "collapsed": true, 
     "input": [], 
     "language": "python", 
     "outputs": [], 
     "prompt_number": 10
    }, 
    {
     "cell_type": "markdown", 
     "source": [
      "We now want to optimise the total cost $F$, which is given by:", 
      "", 
      "$$", 
      "F = \\sum_i y_i c_i", 
      "$$"
     ]
    }, 
    {
     "cell_type": "code", 
     "collapsed": false, 
     "input": [
      "F = y1*c1 + y2*c2 + y3*c3", 
      "F"
     ], 
     "language": "python", 
     "outputs": [
      {
       "output_type": "pyout", 
       "prompt_number": 11, 
       "text": [
        "y3*(2*a + am + bm*y3 + d + y3) + 2*(d/2 - y3/2)*(a + b*(d/2 - y3/2) + d/2 + y3/2 + 1)"
       ]
      }
     ], 
     "prompt_number": 11
    }, 
    {
     "cell_type": "markdown", 
     "source": [
      "The derivative of the total cost is:"
     ]
    }, 
    {
     "cell_type": "code", 
     "collapsed": false, 
     "input": [
      "F_prime = F.diff(y3)", 
      "F_prime"
     ], 
     "language": "python", 
     "outputs": [
      {
       "output_type": "pyout", 
       "prompt_number": 12, 
       "text": [
        "a + am - b*(d/2 - y3/2) + bm*y3 + d/2 + y3*(bm + 1) + y3/2 + 2*(-b/2 + 1/2)*(d/2 - y3/2) - 1"
       ]
      }
     ], 
     "prompt_number": 12
    }, 
    {
     "cell_type": "markdown", 
     "source": [
      "Since we want to minimise the total cost, we equate the derivative to 0 and solve for $y_3$"
     ]
    }, 
    {
     "cell_type": "code", 
     "collapsed": false, 
     "input": [
      "sol_y3 = solve(F_prime, y3)[0]", 
      "sol_y3"
     ], 
     "language": "python", 
     "outputs": [
      {
       "output_type": "pyout", 
       "prompt_number": 13, 
       "text": [
        "-(a + am - b*d + d - 1)/(b + 2*bm + 1)"
       ]
      }
     ], 
     "prompt_number": 13
    }, 
    {
     "cell_type": "markdown", 
     "source": [
      "The critical demand $d_c$ for which the middle link turns off is therefore:"
     ]
    }, 
    {
     "cell_type": "code", 
     "collapsed": false, 
     "input": [
      "d_crit = solve(sol_y3, d)[0]", 
      "d_crit"
     ], 
     "language": "python", 
     "outputs": [
      {
       "output_type": "pyout", 
       "prompt_number": 14, 
       "text": [
        "(a + am - 1)/(b - 1)"
       ]
      }
     ], 
     "prompt_number": 14
    }, 
    {
     "cell_type": "markdown", 
     "source": [
      "We now want the total cost only as a function of demand, so we will substitute our answer for $y_3$ back into $F$"
     ]
    }, 
    {
     "cell_type": "code", 
     "collapsed": false, 
     "input": [
      "optimised_cost = F.subs(y3, sol_y3 )", 
      "optimised_cost"
     ], 
     "language": "python", 
     "outputs": [
      {
       "output_type": "pyout", 
       "prompt_number": 15, 
       "text": [
        "2*(d/2 + (a + am - b*d + d - 1)/(2*(b + 2*bm + 1)))*(a + b*(d/2 + (a + am - b*d + d - 1)/(2*(b + 2*bm + 1))) + d/2 + 1 - (a + am - b*d + d - 1)/(2*(b + 2*bm + 1))) - (a + am - b*d + d - 1)*(2*a + am - bm*(a + am - b*d + d - 1)/(b + 2*bm + 1) + d - (a + am - b*d + d - 1)/(b + 2*bm + 1))/(b + 2*bm + 1)"
       ]
      }
     ], 
     "prompt_number": 15
    }, 
    {
     "cell_type": "code", 
     "collapsed": true, 
     "input": [], 
     "language": "python", 
     "outputs": [], 
     "prompt_number": 18
    }, 
    {
     "cell_type": "code", 
     "collapsed": true, 
     "input": [], 
     "language": "python", 
     "outputs": [], 
     "prompt_number": 18
    }, 
    {
     "cell_type": "code", 
     "collapsed": true, 
     "input": [
      "expr = ((2*(1-b)**2)/(1+2*bm+b) + (b + 2*bm - 3)/(2))*d**2 + ((1-am-a)- 2*(1-am-a)*(1-b)/(1+2*bm+b))*d"
     ], 
     "language": "python", 
     "outputs": [], 
     "prompt_number": 19
    }, 
    {
     "cell_type": "code", 
     "collapsed": false, 
     "input": [
      "d_sw_on = solve(expr, d)[1]", 
      "d_sw_on"
     ], 
     "language": "python", 
     "outputs": [
      {
       "output_type": "pyout", 
       "prompt_number": 22, 
       "text": [
        "2*(3*a*b + 2*a*bm - a + 3*am*b + 2*am*bm - am - 3*b - 2*bm + 1)/(5*b**2 + 4*b*bm - 10*b + 4*bm**2 - 4*bm + 1)"
       ]
      }
     ], 
     "prompt_number": 22
    }, 
    {
     "cell_type": "code", 
     "collapsed": true, 
     "input": [
      "expr2 = ((2*(1-b)**2)/(1+2*bm+b)-b)*d**2 - ((2*(1-am -a)*(1-b))/(1+2*bm+b))"
     ], 
     "language": "python", 
     "outputs": [], 
     "prompt_number": 25
    }, 
    {
     "cell_type": "code", 
     "collapsed": false, 
     "input": [
      "solve(expr2, d)"
     ], 
     "language": "python", 
     "outputs": [
      {
       "output_type": "pyout", 
       "prompt_number": 26, 
       "text": [
        "[-2**(1/2)*((a*b - a + am*b - am - b + 1)/(b**2 - 2*b*bm - 5*b + 2))**(1/2),", 
        " 2**(1/2)*((a*b - a + am*b - am - b + 1)/(b**2 - 2*b*bm - 5*b + 2))**(1/2)]"
       ]
      }
     ], 
     "prompt_number": 26
    }, 
    {
     "cell_type": "code", 
     "collapsed": false, 
     "input": [
      "d_sw_on.subs([(a, 0.5),(b, 0.5),(am, 0.1),(bm, 0.1)])"
     ], 
     "language": "python", 
     "outputs": [
      {
       "output_type": "pyout", 
       "prompt_number": 27, 
       "text": [
        "0.192439862542955"
       ]
      }
     ], 
     "prompt_number": 27
    }, 
    {
     "cell_type": "code", 
     "collapsed": false, 
     "input": [
      "d_crit.subs([(a, 0.5),(b, 0.5),(am, 0.1),(bm, 0.1)])"
     ], 
     "language": "python", 
     "outputs": [
      {
       "output_type": "pyout", 
       "prompt_number": 29, 
       "text": [
        "0.800000000000000"
       ]
      }
     ], 
     "prompt_number": 29
    }, 
    {
     "cell_type": "code", 
     "collapsed": false, 
     "input": [
      "#D = np.arange(0, 100, 0.01)", 
      "", 
      "aa = 0.5 ", 
      "bb = 0.5", 
      "a_m = 0.1", 
      "b_m = 0.1", 
      "", 
      "d_on = d_sw_on.subs([(a, aa),(b, bb),(am, a_m),(bm, b_m)])", 
      "d_crit = d_crit.subs([(a, aa),(b, bb),(am, a_m),(bm, b_m)])", 
      "", 
      "D = np.arange(0, 5, 0.01)", 
      "", 
      "", 
      "c1 = []", 
      "c2 = []", 
      "c3 = []", 
      "for dd in D:", 
      "    if dd < d_on:", 
      "        c1.append( (2 + b_m)*dd**2 + (2*aa + a_m)*dd)", 
      "        ", 
      "    elif dd < d_crit:", 
      "        c2.append( optimised_cost.subs([(a, aa),(b, bb),(am, a_m),(bm, b_m), (d,dd)]))", 
      "        #print c", 
      "    else:", 
      "        c3.append( ((1+bb)/2)*dd**2 + (aa+1)*dd)", 
      "        #print c", 
      "        ", 
      "#    cost.append(c)"
     ], 
     "language": "python", 
     "outputs": [], 
     "prompt_number": 96
    }, 
    {
     "cell_type": "code", 
     "collapsed": false, 
     "input": [
      "plot(D[0:len(c1)], c1, \"g\")", 
      "plot(D[len(c1):len(c1)+len(c2)], c2, \"b\")", 
      "plot(D[len(c1)+len(c2):], c3, \"r\")", 
      "axvline(x=d_on, color = \"g\", linestyle=\"--\")", 
      "axvline(x=d_crit, color =\"r\", linestyle=\"--\")", 
      "xlim([0,1])", 
      "ylim([0,2.5])"
     ], 
     "language": "python", 
     "outputs": [
      {
       "output_type": "pyout", 
       "prompt_number": 103, 
       "text": [
        "(0, 2.5)"
       ]
      }, 
      {
       "output_type": "display_data", 
       "png": "[encoded data removed]"
      }
     ], 
     "prompt_number": 103
    }, 
    {
     "cell_type": "code", 
     "collapsed": false, 
     "input": [
      "aa = 0.5 ", 
      "bb = 0.5", 
      "a_m = 0.1", 
      "b_m = 0.1", 
      "", 
      "dd = np.arange(0,5,0.01)", 
      "", 
      "c_a = (2 + b_m)*dd**2 + (2*aa + a_m)*dd", 
      "c_b = []", 
      "for d_ in dd:", 
      "    c_b.append( optimised_cost.subs([(a, aa),(b, bb),(am, a_m),(bm, b_m)]).subs(d, d_))", 
      "c_c = ((1+bb)/2)*dd**2 + (aa+1)*dd", 
      "", 
      "", 
      "plot(dd, c_a, \"g\")", 
      "plot(dd, c_b, \"b\")", 
      "plot(dd, c_c, \"r\")", 
      "", 
      "axvline(x=d_on, color = \"g\", linestyle=\"--\")", 
      "axvline(x=d_crit, color =\"r\", linestyle=\"--\")", 
      "xlim([0,1])", 
      "ylim([0,2.5])"
     ], 
     "language": "python", 
     "outputs": [
      {
       "output_type": "pyout", 
       "prompt_number": 105, 
       "text": [
        "(0, 2.5)"
       ]
      }, 
      {
       "output_type": "display_data", 
       "png": "[encoded data removed]"
      }
     ], 
     "prompt_number": 105
    }, 
    {
     "cell_type": "code", 
     "collapsed": false, 
     "input": [
      "c_b = optimised_cost.subs([(a, aa),(b, bb),(am, a_m),(bm, b_m)])", 
      "type(c_b.subs(d,1))"
     ], 
     "language": "python", 
     "outputs": [
      {
       "output_type": "pyout", 
       "prompt_number": 85, 
       "text": [
        "sympy.core.numbers.Float"
       ]
      }
     ], 
     "prompt_number": 85
    }, 
    {
     "cell_type": "code", 
     "collapsed": true, 
     "input": [
      "expr.evalf?"
     ], 
     "language": "python", 
     "outputs": [], 
     "prompt_number": 70
    }, 
    {
     "cell_type": "code", 
     "collapsed": true, 
     "input": [], 
     "language": "python", 
     "outputs": []
    }
   ]
  }
 ]
}